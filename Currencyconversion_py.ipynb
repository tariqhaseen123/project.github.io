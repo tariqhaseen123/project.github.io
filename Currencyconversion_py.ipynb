{
  "nbformat": 4,
  "nbformat_minor": 0,
  "metadata": {
    "colab": {
      "provenance": [],
      "authorship_tag": "ABX9TyMSmXV+0Eo9j9IsAwpB40q3",
      "include_colab_link": true
    },
    "kernelspec": {
      "name": "python3",
      "display_name": "Python 3"
    },
    "language_info": {
      "name": "python"
    }
  },
  "cells": [
    {
      "cell_type": "markdown",
      "metadata": {
        "id": "view-in-github",
        "colab_type": "text"
      },
      "source": [
        "<a href=\"https://colab.research.google.com/github/tariqhaseen123/project.github.io/blob/master/Currencyconversion_py.ipynb\" target=\"_parent\"><img src=\"https://colab.research.google.com/assets/colab-badge.svg\" alt=\"Open In Colab\"/></a>"
      ]
    },
    {
      "cell_type": "markdown",
      "source": [
        " **Currency conversion from PKR to USD**\n",
        "\n",
        "\n",
        "\n"
      ],
      "metadata": {
        "id": "CXFydbMfU-Am"
      }
    },
    {
      "cell_type": "code",
      "source": [
        "PKR=float(input(\"PKR:\"))\n",
        "DOLLAR=PKR*0.036\n",
        "print(\"United State Dollar:\",DOLLAR)"
      ],
      "metadata": {
        "colab": {
          "base_uri": "https://localhost:8080/"
        },
        "id": "0kaNbBWgU-t-",
        "outputId": "9dfb6d35-67f6-4166-8701-c215f6b54f51"
      },
      "execution_count": null,
      "outputs": [
        {
          "output_type": "stream",
          "name": "stdout",
          "text": [
            "PKR:1000\n",
            "United State Dollar: 36.0\n"
          ]
        }
      ]
    },
    {
      "cell_type": "markdown",
      "source": [
        "\n",
        "**Currency conversion from USD to PKR**"
      ],
      "metadata": {
        "id": "zw-Rji6WWDqs"
      }
    },
    {
      "cell_type": "code",
      "source": [
        "USD=float(input(\"USD:\"))\n",
        "PKR=USD*278.42\n",
        "print(\"Pakistani Rupees:\" , PKR)"
      ],
      "metadata": {
        "colab": {
          "base_uri": "https://localhost:8080/"
        },
        "id": "mUk5RjRnXsFs",
        "outputId": "eedae794-3f6c-44fe-930a-7e5c370d1b32"
      },
      "execution_count": null,
      "outputs": [
        {
          "output_type": "stream",
          "name": "stdout",
          "text": [
            "USD:2\n",
            "Pakistani Rupees: 556.84\n"
          ]
        }
      ]
    },
    {
      "cell_type": "code",
      "source": [],
      "metadata": {
        "id": "41l2xcI5cWin"
      },
      "execution_count": null,
      "outputs": []
    }
  ]
}